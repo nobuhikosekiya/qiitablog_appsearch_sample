{
  "cells": [
    {
      "cell_type": "markdown",
      "metadata": {
        "id": "view-in-github",
        "colab_type": "text"
      },
      "source": [
        "<a href=\"https://colab.research.google.com/github/nobuhikosekiya/qiitablog_appsearch_sample/blob/main/qiitablog_appsearch_index_sample.ipynb\" target=\"_parent\"><img src=\"https://colab.research.google.com/assets/colab-badge.svg\" alt=\"Open In Colab\"/></a>"
      ]
    },
    {
      "cell_type": "markdown",
      "metadata": {
        "id": "Na09HDp1Qjxc"
      },
      "source": [
        "# 1.初期設定"
      ]
    },
    {
      "cell_type": "markdown",
      "metadata": {
        "id": "8z3A0MtmQjxd"
      },
      "source": [
        "## ライブラリの有効化"
      ]
    },
    {
      "cell_type": "code",
      "execution_count": 3,
      "metadata": {
        "colab": {
          "base_uri": "https://localhost:8080/"
        },
        "id": "3Y7IZTMzQjxd",
        "outputId": "f713c654-6ec4-4e84-fbf1-e49404fb9dcf"
      },
      "outputs": [
        {
          "output_type": "stream",
          "name": "stdout",
          "text": [
            "\u001b[?25l     \u001b[90m━━━━━━━━━━━━━━━━━━━━━━━━━━━━━━━━━━━━━━━━\u001b[0m \u001b[32m0.0/432.1 kB\u001b[0m \u001b[31m?\u001b[0m eta \u001b[36m-:--:--\u001b[0m\r\u001b[2K     \u001b[91m━━━━━━━\u001b[0m\u001b[91m╸\u001b[0m\u001b[90m━━━━━━━━━━━━━━━━━━━━━━━━━━━━━━━━\u001b[0m \u001b[32m81.9/432.1 kB\u001b[0m \u001b[31m2.3 MB/s\u001b[0m eta \u001b[36m0:00:01\u001b[0m\r\u001b[2K     \u001b[91m━━━━━━━━━━━━━━━━━━━━━━━━━━━━━━━━━━━━━━━\u001b[0m\u001b[91m╸\u001b[0m \u001b[32m430.1/432.1 kB\u001b[0m \u001b[31m7.0 MB/s\u001b[0m eta \u001b[36m0:00:01\u001b[0m\r\u001b[2K     \u001b[90m━━━━━━━━━━━━━━━━━━━━━━━━━━━━━━━━━━━━━━━━\u001b[0m \u001b[32m432.1/432.1 kB\u001b[0m \u001b[31m5.9 MB/s\u001b[0m eta \u001b[36m0:00:00\u001b[0m\n",
            "\u001b[?25h\u001b[?25l     \u001b[90m━━━━━━━━━━━━━━━━━━━━━━━━━━━━━━━━━━━━━━━━\u001b[0m \u001b[32m0.0/59.9 kB\u001b[0m \u001b[31m?\u001b[0m eta \u001b[36m-:--:--\u001b[0m\r\u001b[2K     \u001b[90m━━━━━━━━━━━━━━━━━━━━━━━━━━━━━━━━━━━━━━━━\u001b[0m \u001b[32m59.9/59.9 kB\u001b[0m \u001b[31m6.9 MB/s\u001b[0m eta \u001b[36m0:00:00\u001b[0m\n",
            "\u001b[?25h"
          ]
        }
      ],
      "source": [
        "%pip install -q elasticsearch requests"
      ]
    },
    {
      "cell_type": "code",
      "execution_count": 4,
      "metadata": {
        "id": "h0ZyMp4SQjxd"
      },
      "outputs": [],
      "source": [
        "from pprint import pprint\n",
        "import os, json\n",
        "import requests\n",
        "from getpass import getpass\n",
        "from elasticsearch import Elasticsearch, helpers\n",
        "from elasticsearch.helpers import bulk"
      ]
    },
    {
      "cell_type": "markdown",
      "metadata": {
        "id": "oHm0MTHoQjxd"
      },
      "source": [
        "## Elasticsearchの設定"
      ]
    },
    {
      "cell_type": "code",
      "execution_count": 6,
      "metadata": {
        "colab": {
          "base_uri": "https://localhost:8080/"
        },
        "id": "TXAxRg4FQjxe",
        "outputId": "c4dbbcca-9535-42e2-b811-ec636d435a95"
      },
      "outputs": [
        {
          "output_type": "stream",
          "name": "stdout",
          "text": [
            "Elastic deployment Cloud ID··········\n",
            "Elastic deployment API Key··········\n",
            "ObjectApiResponse({'name': 'instance-0000000054', 'cluster_name': '507a2cf6ba204071943512e0537eee58', 'cluster_uuid': 'oF-xDLtXRCet87gRuM3eJg', 'version': {'number': '8.11.2', 'build_flavor': 'default', 'build_type': 'docker', 'build_hash': '76013fa76dcbf144c886990c6290715f5dc2ae20', 'build_date': '2023-12-05T10:03:47.729926671Z', 'build_snapshot': False, 'lucene_version': '9.8.0', 'minimum_wire_compatibility_version': '7.17.0', 'minimum_index_compatibility_version': '7.0.0'}, 'tagline': 'You Know, for Search'})\n"
          ]
        }
      ],
      "source": [
        "ELASTIC_CLOUD_ID = getpass(\"Elastic deployment Cloud ID\")\n",
        "ELASTIC_API_KEY = getpass(\"Elastic deployment API Key\")\n",
        "if ELASTIC_CLOUD_ID == '':\n",
        "  ELASTIC_URL = getpass(\"Elastic deployment URL. No need if Cloud ID is provided.\")\n",
        "if ELASTIC_API_KEY == '':\n",
        "  ELASTIC_USER = getpass(\"Elastic user. No need if API key is provided.\")\n",
        "  ELASTIC_PASSWORD = getpass(\"Elastic password. No need if API key is provided.\")\n",
        "\n",
        "if ELASTIC_CLOUD_ID != '' and ELASTIC_API_KEY != '':\n",
        "  es = Elasticsearch(\n",
        "    cloud_id=ELASTIC_CLOUD_ID,\n",
        "    api_key=ELASTIC_API_KEY,\n",
        "    request_timeout=300\n",
        "  )\n",
        "elif ELASTIC_URL != '' and ELASTIC_USER != '' and ELASTIC_PASSWORD != '':\n",
        "  es = Elasticsearch(\n",
        "    hosts = ELASTIC_URL,\n",
        "    basic_auth=(ELASTIC_USER, ELASTIC_PASSWORD),\n",
        "    request_timeout=300\n",
        "  )\n",
        "elif ELASTIC_URL != '' and ELASTIC_USER == '':\n",
        "  es = Elasticsearch(\n",
        "    hosts = ELASTIC_URL,\n",
        "    # request_timeout=300,\n",
        "    request_timeout=300\n",
        "  )\n",
        "else:\n",
        "  print(\"env needs to set either ELASTIC_CLOUD_ID or ELASTIC_URL\")\n",
        "\n",
        "\n",
        "pprint(es.info()) # should return cluster info"
      ]
    },
    {
      "cell_type": "markdown",
      "metadata": {
        "id": "TELqZ8WkQjxe"
      },
      "source": [
        "## Elasticsearchで使うインデックス名の設定"
      ]
    },
    {
      "cell_type": "code",
      "execution_count": 7,
      "metadata": {
        "colab": {
          "base_uri": "https://localhost:8080/",
          "height": 53
        },
        "id": "0A5iREQkQjxe",
        "outputId": "24915448-f25e-4125-e037-e2506d051173"
      },
      "outputs": [
        {
          "name": "stdout",
          "output_type": "stream",
          "text": [
            "Elasticsearchのインデックスの名前 (空入力はqiita-blog-appsearchになります):test-appsearch-01\n"
          ]
        },
        {
          "output_type": "execute_result",
          "data": {
            "text/plain": [
              "'test-appsearch-01'"
            ],
            "application/vnd.google.colaboratory.intrinsic+json": {
              "type": "string"
            }
          },
          "metadata": {},
          "execution_count": 7
        }
      ],
      "source": [
        "INDEX_NAME=input(\"Elasticsearchのインデックスの名前 (空入力はqiita-blog-appsearchになります):\")\n",
        "if INDEX_NAME == '':\n",
        "    INDEX_NAME='qiita-blog-appsearch'\n",
        "INDEX_NAME"
      ]
    },
    {
      "cell_type": "markdown",
      "metadata": {
        "id": "x4pVA306Qjxe"
      },
      "source": [
        "# 2.検索ドキュメントの準備\n",
        "この例では、QiitaのElasticsearch Japan所属の記事を検索対象としますので、その記事のダウンロードをQiita APIを使って行います。"
      ]
    },
    {
      "cell_type": "markdown",
      "metadata": {
        "id": "4MsQiz7hQjxe"
      },
      "source": [
        "## Qiita記事のダウンロード"
      ]
    },
    {
      "cell_type": "code",
      "execution_count": 14,
      "metadata": {
        "colab": {
          "base_uri": "https://localhost:8080/"
        },
        "id": "Bx0F6Ec6Qjxe",
        "outputId": "de73dd28-ab1e-4dc5-fce0-52b1435f6a92"
      },
      "outputs": [
        {
          "output_type": "stream",
          "name": "stdout",
          "text": [
            "200 OK\n",
            "total_count: 74\n"
          ]
        }
      ],
      "source": [
        "# h = {'Authorization': 'Bearer xxxx'} # ユーザ認証する場合\n",
        "h = {}\n",
        "url = \"https://qiita.com/api/v2/items?\"\n",
        "\n",
        "# tag別に記事をPAGEだけ繰り返し取得\n",
        "query = \"&query=org%3Aelasticsearch_japan\"\n",
        "# 検索で指定した期間内に作成された記事数を取得\n",
        "res = requests.get(url=url + query, headers=h)\n",
        "# サーバーからの応答\n",
        "print(res.status_code, res.reason)\n",
        "# print(\"指定しているタグ: \" + tag_name)\n",
        "total_count = int(res.headers['Total-Count'])\n",
        "print(\"total_count: \" + str(total_count))\n",
        "\n",
        "page = f\"page=1&per_page={total_count}\"\n",
        "os.makedirs(\"qiita-downloads\", exist_ok=True)\n",
        "res = requests.get(url=url + page + query, headers=h)\n",
        "documents = json.loads(res.text)\n",
        "for doc in documents:\n",
        "    search_doc = {\n",
        "        \"title\": doc[\"title\"],\n",
        "        \"url\": doc[\"url\"],\n",
        "        \"body\": doc[\"body\"],\n",
        "        \"tags\": doc[\"tags\"],\n",
        "        \"created_at\": doc[\"created_at\"],\n",
        "        \"updated_at\": doc[\"updated_at\"],\n",
        "        \"id\": doc[\"id\"],\n",
        "        \"likes_count\": doc[\"likes_count\"],\n",
        "        \"reactions_count\": doc[\"reactions_count\"],\n",
        "        \"stocks_count\": doc[\"stocks_count\"],\n",
        "        \"page_views_count\": doc[\"page_views_count\"],\n",
        "        \"organization_url_name\": doc[\"organization_url_name\"],\n",
        "        \"comments_count\": doc[\"comments_count\"]\n",
        "    }\n",
        "    title = doc[\"title\"].replace('/', '_')\n",
        "    filename = \"./qiita-downloads\" + \"/\" + title + \".json\"\n",
        "    with open(filename, 'w') as f:\n",
        "        json.dump(search_doc, f, indent=2, ensure_ascii=False)"
      ]
    },
    {
      "cell_type": "code",
      "execution_count": 15,
      "metadata": {
        "colab": {
          "base_uri": "https://localhost:8080/"
        },
        "id": "_2xJ07sCQjxe",
        "outputId": "3dc3e0a2-3d75-4a5a-b258-c8eb1fcbc060"
      },
      "outputs": [
        {
          "output_type": "stream",
          "name": "stdout",
          "text": [
            "document count: 74\n",
            "{'title': 'Elasticsearchのマシン・ラーニング異常検知の動きを理解する(3) [変更設定編]', 'url': 'https://qiita.com/nobuhikosekiya/items/ee8be363fe6e8faa75f1', 'body': 'シリーズ記事\\n[Elasticsearchのマシン・ラーニング異常検知の動きを理解しよう(1)](https://qiita.com/nobuhikosekiya/items/e0fbb7792a9b70284c57)\\n[Elasticsearchのマシン・ラーニング異常検知の動きを理解する(2) [アラート編]](https://qiita.com/nobuhikosekiya/items/59cb1705dac98860c5dc)\\n[Elasticsearchのマシン・ラーニング異常検知の動きを理解する(3) [変更設定編]](https://qiita.com/nobuhikosekiya/items/ee8be363fe6e8faa75f1)\\n\\n# はじめに\\n[前回](https://qiita.com/nobuhikosekiya/items/59cb1705dac98860c5dc)の記事では、MLの異常検知でアラートを出すための手順について書きました。\\n異様検知を運用で真剣に使い始めると、色々な変更作業が必要になってきます。\\n\\n# どんな変更が想定されるか？\\n全てではないかもしれませんが、運用中の主な変更作業についてまとめます。\\n\\n### 異常検知ジョブの分析対象の指標やBuket spanの変更(Detector設定)\\nSingle Metricタイプのジョブは検知対象の指標が一つなので、変更したいとしたら指標の集約期間であるBucket spanくらいかと思います。\\nしかし、Multi Metricタイプのジョブは検知対象の指標及びInfluencer、Split Fieldも複数指定したりと、途中で変更したくなる可能性があります。\\nこれらは学習モデルに影響のあるパラメータなので、基本的にはジョブ作成時にしか設定できません。変更したい場合はジョブをクローンして、その際に設定を変更する方法があります。\\n詳しいステップについては本記事の下の方に記載しています。\\n\\n### アラートルールの変更\\n異常検知のジョブパラメータはそのままで、アラートを上げるSeverity値（スコア値）や、スコア対象（Bucket/Record/Influence)を変えたいケースもよくあると思います。\\n\\nアラートルールの変更はもちろん可能です。アラート発報頻度が高すぎたり、低すぎたりする場合、Single Metric Chartで過去の異常検知スコアを確認し、どのスコアで検知させたいか確認しましょう。\\n一つの異常検知ジョブに対して複数のアラートを設定できます。よって異なるアラート条件を同時並行で動かすこともできますので、これで検知具合の差を運用で確認していくこともできるでしょう。\\n\\n\\n### 異常検知のカスタムルールの追加/変更\\nDetector設定の中に異常と判断させたくない条件を設定することができます。以下の２つの設定があります。\\n* 条件ロジック ... 例えばCPU使用率の異常検知では、50%以下の時の異常は検知させたくないといった追加の条件を設定\\n* フィルター値 ... 特定のデータ属性を除外。例えば特定のソースIPアドレスのログは想定通りに他とは異なる動きをするため、異常検知から除外させたい場合に設定\\n\\n上記２点に対するアクションとして、以下の２つを設定できます。（片方、もしくは両方設定可能）\\nskip_result ... デフォルトのアクション。本設定後、異常検知対象ではなくなります。\\nskip_model_update ... 本設定後、さらに学習モデルに含まれないようにする場合はこちらも指定。\\n\\nこの設定は、稼働中のジョブに対しても変更できます。\\n詳しくは[こちら](https://www.elastic.co/guide/en/machine-learning/8.8/ml-configuring-detector-custom-rules.html)を参照ください。\\n\\n### 計画的に特定期間を異常検知から除外\\n祝日、セール日、計画停止などがある場合など、異常検知対象から外したいケース。\\n事前にメンテナンスなどの計画が想定されていれば、[カレンダー](https://www.elastic.co/guide/en/machine-learning/8.8/ml-ad-run-jobs.html#ml-ad-calendars)の登録によりその期間を (1)異常検知されなくし、 (2)学習モデルに反映しないことができます。（1,2両方です。片方だけにしたいということはできません）\\n\\n### 後から特定期間を学習モデルから除外\\n事前に上記カレンダーを登録できない場合、あるいはカレンダーを登録し忘れたような場合で、後から学習モデルから事象を除外したい場合もあると思います。\\n\\n[モデルスナップショットのリストア機能](https://www.elastic.co/guide/en/machine-learning/current/ml-reverting-model-snapshot.html)により、一旦過去の状態の学習モデルをリストアしつつ、特定期間を対象外にしながらDataFeedにて現在時刻までロールフォワードさせることで、特定期間が学習モデルに反映されないようにすることができます。\\n\\nただし、例えば障害が発生したようなケースで、その障害のデータを学習させたくない場合にリストアすると、Anomaly Explorerなどで確認できる障害時の異常検知の結果情報も削除されてしまいます。それなりの頻度で起きるような小さい障害は、（リストアせずにそのままの運用で）学習モデルに反映するのが基本です。まれに起きるような大きな障害のケースの場合、リストアも検討する形です。\\n\\nもしリストア前に異常検知の結果を保存しておきたい場合は、画面のスクリーンショットで記録を残すのが簡単ですが、やろうと思えば異常検知ジョブをクローンしてもう一つ作り、そっちの方で過去から障害発生までのデータをDatafeedで投入して異常検知の結果状態を再現することもできます。（クローンされたジョブにはモデルスナップショットはコピーできないので、Datafeedにて再現する必要があります。）\\u3000これを実施する際、一時的にElaticsearchのデータノードにも負荷がかかるので、本番での実施タイミングは注意ください。\\n\\nモデルのスナップショットはデフォルトで3~4時間おきに取得されます。（ジョブパラメータbackground_persist_intervalで変更可能）\\nデフォルトでは自動的に10日前以上の古いスナップショットは削除されますが、ずっと残したいスナップショットは画面から指定できます(retain）。[参照](https://www.elastic.co/guide/en/machine-learning/8.8/ml-ad-run-jobs.html#ml-ad-model-snapshots)\\n\\n# 異常検知ジョブのクローンを使った変更方法\\n\\n実はそんなに難しくなく、[第１回](https://qiita.com/nobuhikosekiya/items/e0fbb7792a9b70284c57)でやったDatafeedの使い方をマスターしていると、以下のように対応できます。\\n\\n1. 異常検知ジョブv1をクローンし、ジョブv2を作成します。クローンする際にジョブv2の分析パラメータを変更できます。\\n1. ジョブv2のDatafeedをStartする際に過去のデータを読み込めばすぐに過去データを学習してくれます。\\n1. この時点で異常検知の動きがv2にてどう変わったかを画面より確認します。\\n1. 設定に納得いけばそのまま、新しいデータについてのリアルタイムな異常検知を開始できます。\\n1. アラートルールはv1からコピーされていません。また、一つのアラートルールは一つの異常検知ジョブにしか使えないようになっています。よって、以前のアラートルールを再利用したい場合、アラートルールの管理画面でこちらもクローンし(アラートルールv2)、それをジョブv2に割り当てます。（ちなみに１つのジョブに複数のアラートを割り当てることは可能です）\\n\\n一つ注意点です。ログデータが大量にある場合、2.のDatafeedによる過去データの学習にてElasticsearchに対するクエリー処理が多く実行され一時的な負荷となるので、本番で行う際は場合によっては夜のメンテナンス期間に実施したり、あるいはDatafeedの過去データ学習を小さく複数回に分けるなどをご検討ください。\\n\\nジョブv1はそのまましばらく使い続け、v2との結果の差を見てみるといいでしょう。\\nまた、ジョブv1のDatafeedを停止すれば、設定は残したまま動作を停止し、必要に応じてまた再開させることもできます。\\n\\n以下はアラートルールのクローンを作り、ジョブv2に割り当てる様子です。\\n![image.png](https://qiita-image-store.s3.ap-northeast-1.amazonaws.com/0/109197/e483fbfb-3c4d-5b97-e863-46a9f27486d6.png)\\n\\n以下はv1、v2の両方のアラートルールがアラートをあげた結果です。このように結果の対比が可能です。\\n![image.png](https://qiita-image-store.s3.ap-northeast-1.amazonaws.com/0/109197/7b676d0a-521c-4778-6cf1-a4e22fd77b63.png)\\n\\n# 終わり\\nこのようにMLの異常検知は、変更したり、また複数のパラメータを同時並行で観察するといったこともできます。たくさん増やしすぎるとそれ自体の管理が大変になりますが、試用期間中はうまく使っていくことで複数のパラメータを効率良く試していくことができると思います。\\n', 'tags': ['MachineLearning', 'Elasticsearch'], 'created_at': '2023-06-20T18:55:03+09:00', 'updated_at': '2023-06-21T11:40:18+09:00', 'id': 'ee8be363fe6e8faa75f1', 'likes_count': 0, 'reactions_count': 0, 'stocks_count': 0, 'page_views_count': None, 'organization_url_name': 'elasticsearch_japan', 'comments_count': 0}\n"
          ]
        }
      ],
      "source": [
        "DRIVE_FOLDER = \"./qiita-downloads/\"\n",
        "json_docs = []\n",
        "\n",
        "# 指定されたフォルダ内のファイルを走査\n",
        "for filename in os.listdir(DRIVE_FOLDER):\n",
        "    # ファイルがJSONファイルであることを確認\n",
        "    if filename.endswith(\".json\"):\n",
        "        file_path = os.path.join(DRIVE_FOLDER, filename)\n",
        "        # JSONファイルを開いてデータを読み取り、dictオブジェクトとして追加\n",
        "        with open(file_path, \"r\", encoding=\"utf-8\") as json_file:\n",
        "            json_data = json.load(json_file)\n",
        "            tags_names = []\n",
        "            for tag in json_data['tags']:\n",
        "                tags_names.append(tag['name'])\n",
        "            json_data['tags'] = tags_names\n",
        "            json_docs.append(json_data)\n",
        "\n",
        "# 全てのJSONドキュメントがjson_docsリストに格納されました\n",
        "print(f'document count: {len(json_docs)}')\n",
        "print(json_docs[0] if len(json_docs) > 0 else None)"
      ]
    },
    {
      "cell_type": "markdown",
      "source": [
        "以下のように、ダウンロードしたJSONには以下のキーが含まれています。このキー名を元に後続ステップでElasticsearchのインデックススキーマを定義していきます。\n",
        "\n",
        "body, comments_count, created_at, id,likes_count, organization_url_name, page_views_count, reactions_count', stocks_count, tags, title, updated_at, url"
      ],
      "metadata": {
        "id": "yKJyjEGQVGsW"
      }
    },
    {
      "cell_type": "code",
      "source": [
        "pprint(json_docs[0])"
      ],
      "metadata": {
        "colab": {
          "base_uri": "https://localhost:8080/"
        },
        "id": "u0IIZ03yU9aS",
        "outputId": "50444b8e-b641-4ce0-bf4f-7243b852ee4d"
      },
      "execution_count": 17,
      "outputs": [
        {
          "output_type": "stream",
          "name": "stdout",
          "text": [
            "{'body': 'シリーズ記事\\n'\n",
            "         '[Elasticsearchのマシン・ラーニング異常検知の動きを理解しよう(1)](https://qiita.com/nobuhikosekiya/items/e0fbb7792a9b70284c57)\\n'\n",
            "         '[Elasticsearchのマシン・ラーニング異常検知の動きを理解する(2) '\n",
            "         '[アラート編]](https://qiita.com/nobuhikosekiya/items/59cb1705dac98860c5dc)\\n'\n",
            "         '[Elasticsearchのマシン・ラーニング異常検知の動きを理解する(3) '\n",
            "         '[変更設定編]](https://qiita.com/nobuhikosekiya/items/ee8be363fe6e8faa75f1)\\n'\n",
            "         '\\n'\n",
            "         '# はじめに\\n'\n",
            "         '[前回](https://qiita.com/nobuhikosekiya/items/59cb1705dac98860c5dc)の記事では、MLの異常検知でアラートを出すための手順について書きました。\\n'\n",
            "         '異様検知を運用で真剣に使い始めると、色々な変更作業が必要になってきます。\\n'\n",
            "         '\\n'\n",
            "         '# どんな変更が想定されるか？\\n'\n",
            "         '全てではないかもしれませんが、運用中の主な変更作業についてまとめます。\\n'\n",
            "         '\\n'\n",
            "         '### 異常検知ジョブの分析対象の指標やBuket spanの変更(Detector設定)\\n'\n",
            "         'Single Metricタイプのジョブは検知対象の指標が一つなので、変更したいとしたら指標の集約期間であるBucket '\n",
            "         'spanくらいかと思います。\\n'\n",
            "         'しかし、Multi Metricタイプのジョブは検知対象の指標及びInfluencer、Split '\n",
            "         'Fieldも複数指定したりと、途中で変更したくなる可能性があります。\\n'\n",
            "         'これらは学習モデルに影響のあるパラメータなので、基本的にはジョブ作成時にしか設定できません。変更したい場合はジョブをクローンして、その際に設定を変更する方法があります。\\n'\n",
            "         '詳しいステップについては本記事の下の方に記載しています。\\n'\n",
            "         '\\n'\n",
            "         '### アラートルールの変更\\n'\n",
            "         '異常検知のジョブパラメータはそのままで、アラートを上げるSeverity値（スコア値）や、スコア対象（Bucket/Record/Influence)を変えたいケースもよくあると思います。\\n'\n",
            "         '\\n'\n",
            "         'アラートルールの変更はもちろん可能です。アラート発報頻度が高すぎたり、低すぎたりする場合、Single Metric '\n",
            "         'Chartで過去の異常検知スコアを確認し、どのスコアで検知させたいか確認しましょう。\\n'\n",
            "         '一つの異常検知ジョブに対して複数のアラートを設定できます。よって異なるアラート条件を同時並行で動かすこともできますので、これで検知具合の差を運用で確認していくこともできるでしょう。\\n'\n",
            "         '\\n'\n",
            "         '\\n'\n",
            "         '### 異常検知のカスタムルールの追加/変更\\n'\n",
            "         'Detector設定の中に異常と判断させたくない条件を設定することができます。以下の２つの設定があります。\\n'\n",
            "         '* 条件ロジック ... 例えばCPU使用率の異常検知では、50%以下の時の異常は検知させたくないといった追加の条件を設定\\n'\n",
            "         '* フィルター値 ... '\n",
            "         '特定のデータ属性を除外。例えば特定のソースIPアドレスのログは想定通りに他とは異なる動きをするため、異常検知から除外させたい場合に設定\\n'\n",
            "         '\\n'\n",
            "         '上記２点に対するアクションとして、以下の２つを設定できます。（片方、もしくは両方設定可能）\\n'\n",
            "         'skip_result ... デフォルトのアクション。本設定後、異常検知対象ではなくなります。\\n'\n",
            "         'skip_model_update ... 本設定後、さらに学習モデルに含まれないようにする場合はこちらも指定。\\n'\n",
            "         '\\n'\n",
            "         'この設定は、稼働中のジョブに対しても変更できます。\\n'\n",
            "         '詳しくは[こちら](https://www.elastic.co/guide/en/machine-learning/8.8/ml-configuring-detector-custom-rules.html)を参照ください。\\n'\n",
            "         '\\n'\n",
            "         '### 計画的に特定期間を異常検知から除外\\n'\n",
            "         '祝日、セール日、計画停止などがある場合など、異常検知対象から外したいケース。\\n'\n",
            "         '事前にメンテナンスなどの計画が想定されていれば、[カレンダー](https://www.elastic.co/guide/en/machine-learning/8.8/ml-ad-run-jobs.html#ml-ad-calendars)の登録によりその期間を '\n",
            "         '(1)異常検知されなくし、 (2)学習モデルに反映しないことができます。（1,2両方です。片方だけにしたいということはできません）\\n'\n",
            "         '\\n'\n",
            "         '### 後から特定期間を学習モデルから除外\\n'\n",
            "         '事前に上記カレンダーを登録できない場合、あるいはカレンダーを登録し忘れたような場合で、後から学習モデルから事象を除外したい場合もあると思います。\\n'\n",
            "         '\\n'\n",
            "         '[モデルスナップショットのリストア機能](https://www.elastic.co/guide/en/machine-learning/current/ml-reverting-model-snapshot.html)により、一旦過去の状態の学習モデルをリストアしつつ、特定期間を対象外にしながらDataFeedにて現在時刻までロールフォワードさせることで、特定期間が学習モデルに反映されないようにすることができます。\\n'\n",
            "         '\\n'\n",
            "         'ただし、例えば障害が発生したようなケースで、その障害のデータを学習させたくない場合にリストアすると、Anomaly '\n",
            "         'Explorerなどで確認できる障害時の異常検知の結果情報も削除されてしまいます。それなりの頻度で起きるような小さい障害は、（リストアせずにそのままの運用で）学習モデルに反映するのが基本です。まれに起きるような大きな障害のケースの場合、リストアも検討する形です。\\n'\n",
            "         '\\n'\n",
            "         'もしリストア前に異常検知の結果を保存しておきたい場合は、画面のスクリーンショットで記録を残すのが簡単ですが、やろうと思えば異常検知ジョブをクローンしてもう一つ作り、そっちの方で過去から障害発生までのデータをDatafeedで投入して異常検知の結果状態を再現することもできます。（クローンされたジョブにはモデルスナップショットはコピーできないので、Datafeedにて再現する必要があります。）\\u3000'\n",
            "         'これを実施する際、一時的にElaticsearchのデータノードにも負荷がかかるので、本番での実施タイミングは注意ください。\\n'\n",
            "         '\\n'\n",
            "         'モデルのスナップショットはデフォルトで3~4時間おきに取得されます。（ジョブパラメータbackground_persist_intervalで変更可能）\\n'\n",
            "         'デフォルトでは自動的に10日前以上の古いスナップショットは削除されますが、ずっと残したいスナップショットは画面から指定できます(retain）。[参照](https://www.elastic.co/guide/en/machine-learning/8.8/ml-ad-run-jobs.html#ml-ad-model-snapshots)\\n'\n",
            "         '\\n'\n",
            "         '# 異常検知ジョブのクローンを使った変更方法\\n'\n",
            "         '\\n'\n",
            "         '実はそんなに難しくなく、[第１回](https://qiita.com/nobuhikosekiya/items/e0fbb7792a9b70284c57)でやったDatafeedの使い方をマスターしていると、以下のように対応できます。\\n'\n",
            "         '\\n'\n",
            "         '1. 異常検知ジョブv1をクローンし、ジョブv2を作成します。クローンする際にジョブv2の分析パラメータを変更できます。\\n'\n",
            "         '1. ジョブv2のDatafeedをStartする際に過去のデータを読み込めばすぐに過去データを学習してくれます。\\n'\n",
            "         '1. この時点で異常検知の動きがv2にてどう変わったかを画面より確認します。\\n'\n",
            "         '1. 設定に納得いけばそのまま、新しいデータについてのリアルタイムな異常検知を開始できます。\\n'\n",
            "         '1. '\n",
            "         'アラートルールはv1からコピーされていません。また、一つのアラートルールは一つの異常検知ジョブにしか使えないようになっています。よって、以前のアラートルールを再利用したい場合、アラートルールの管理画面でこちらもクローンし(アラートルールv2)、それをジョブv2に割り当てます。（ちなみに１つのジョブに複数のアラートを割り当てることは可能です）\\n'\n",
            "         '\\n'\n",
            "         '一つ注意点です。ログデータが大量にある場合、2.のDatafeedによる過去データの学習にてElasticsearchに対するクエリー処理が多く実行され一時的な負荷となるので、本番で行う際は場合によっては夜のメンテナンス期間に実施したり、あるいはDatafeedの過去データ学習を小さく複数回に分けるなどをご検討ください。\\n'\n",
            "         '\\n'\n",
            "         'ジョブv1はそのまましばらく使い続け、v2との結果の差を見てみるといいでしょう。\\n'\n",
            "         'また、ジョブv1のDatafeedを停止すれば、設定は残したまま動作を停止し、必要に応じてまた再開させることもできます。\\n'\n",
            "         '\\n'\n",
            "         '以下はアラートルールのクローンを作り、ジョブv2に割り当てる様子です。\\n'\n",
            "         '![image.png](https://qiita-image-store.s3.ap-northeast-1.amazonaws.com/0/109197/e483fbfb-3c4d-5b97-e863-46a9f27486d6.png)\\n'\n",
            "         '\\n'\n",
            "         '以下はv1、v2の両方のアラートルールがアラートをあげた結果です。このように結果の対比が可能です。\\n'\n",
            "         '![image.png](https://qiita-image-store.s3.ap-northeast-1.amazonaws.com/0/109197/7b676d0a-521c-4778-6cf1-a4e22fd77b63.png)\\n'\n",
            "         '\\n'\n",
            "         '# 終わり\\n'\n",
            "         'このようにMLの異常検知は、変更したり、また複数のパラメータを同時並行で観察するといったこともできます。たくさん増やしすぎるとそれ自体の管理が大変になりますが、試用期間中はうまく使っていくことで複数のパラメータを効率良く試していくことができると思います。\\n',\n",
            " 'comments_count': 0,\n",
            " 'created_at': '2023-06-20T18:55:03+09:00',\n",
            " 'id': 'ee8be363fe6e8faa75f1',\n",
            " 'likes_count': 0,\n",
            " 'organization_url_name': 'elasticsearch_japan',\n",
            " 'page_views_count': None,\n",
            " 'reactions_count': 0,\n",
            " 'stocks_count': 0,\n",
            " 'tags': ['MachineLearning', 'Elasticsearch'],\n",
            " 'title': 'Elasticsearchのマシン・ラーニング異常検知の動きを理解する(3) [変更設定編]',\n",
            " 'updated_at': '2023-06-21T11:40:18+09:00',\n",
            " 'url': 'https://qiita.com/nobuhikosekiya/items/ee8be363fe6e8faa75f1'}\n"
          ]
        }
      ]
    },
    {
      "cell_type": "markdown",
      "metadata": {
        "id": "aPO_E0UbQjxe"
      },
      "source": [
        "# 3.Elasticsearchインデックスの作成"
      ]
    },
    {
      "cell_type": "markdown",
      "metadata": {
        "id": "DK8tW7YqQjxe"
      },
      "source": [
        "\n",
        "まずElasticsearchのインデックスのベースを作成します。"
      ]
    },
    {
      "cell_type": "code",
      "execution_count": 8,
      "metadata": {
        "colab": {
          "base_uri": "https://localhost:8080/"
        },
        "id": "Y5Wuz1CgQjxf",
        "outputId": "3241f57f-7e1e-46ac-8153-fa28657964df"
      },
      "outputs": [
        {
          "output_type": "stream",
          "name": "stdout",
          "text": [
            "Index 'test-appsearch-01' does not exist.\n"
          ]
        },
        {
          "output_type": "execute_result",
          "data": {
            "text/plain": [
              "ObjectApiResponse({'acknowledged': True, 'shards_acknowledged': True, 'index': 'test-appsearch-01'})"
            ]
          },
          "metadata": {},
          "execution_count": 8
        }
      ],
      "source": [
        "if es.indices.exists(index=INDEX_NAME):\n",
        "    # If it exists, delete the index\n",
        "    es.indices.delete(index=INDEX_NAME)\n",
        "    print(f\"Index '{INDEX_NAME}' deleted successfully.\")\n",
        "else:\n",
        "    print(f\"Index '{INDEX_NAME}' does not exist.\")\n",
        "\n",
        "es.indices.create(\n",
        "  index=INDEX_NAME,\n",
        "  settings={\n",
        "      \"index\": {\n",
        "          \"number_of_shards\": 1,\n",
        "          \"number_of_replicas\": 1\n",
        "      }\n",
        "  }\n",
        ")\n"
      ]
    },
    {
      "cell_type": "markdown",
      "metadata": {
        "id": "BqBlAqIOQjxf"
      },
      "source": [
        "Kuromojiアナライザをインデックスのsettingsに追加します。"
      ]
    },
    {
      "cell_type": "code",
      "execution_count": 9,
      "metadata": {
        "colab": {
          "base_uri": "https://localhost:8080/"
        },
        "id": "qGSS6iufQjxf",
        "outputId": "6eb81b38-ea51-4f3a-ea07-f95658082f40"
      },
      "outputs": [
        {
          "output_type": "stream",
          "name": "stderr",
          "text": [
            "<ipython-input-9-d31898a008a3>:76: DeprecationWarning: Passing transport options in the API method is deprecated. Use 'Elasticsearch.options()' instead.\n",
            "  es.indices.open(index=INDEX_NAME, request_timeout=60)\n"
          ]
        },
        {
          "output_type": "execute_result",
          "data": {
            "text/plain": [
              "ObjectApiResponse({'acknowledged': True, 'shards_acknowledged': True})"
            ]
          },
          "metadata": {},
          "execution_count": 9
        }
      ],
      "source": [
        "es.indices.close(index=INDEX_NAME)\n",
        "\n",
        "add_settings = {\n",
        "  \"index\": {\n",
        "    \"analysis\": {\n",
        "      \"char_filter\": {\n",
        "        \"normalize\": {\n",
        "          \"mode\": \"compose\",\n",
        "          \"name\": \"nfkc\",\n",
        "          \"type\": \"icu_normalizer\"\n",
        "        }\n",
        "      }\n",
        "    }\n",
        "  }\n",
        "}\n",
        "es.indices.put_settings(index=INDEX_NAME, body=add_settings)\n",
        "\n",
        "add_settings = {\n",
        "  \"index\": {\n",
        "    \"analysis\": {\n",
        "      \"tokenizer\": {\n",
        "        \"ja_kuromoji_tokenizer\": {\n",
        "          \"mode\": \"search\",\n",
        "          \"discard_compound_token\": \"true\",\n",
        "          \"type\": \"kuromoji_tokenizer\"\n",
        "        }\n",
        "      }\n",
        "    }\n",
        "  }\n",
        "}\n",
        "\n",
        "es.indices.put_settings(index=INDEX_NAME, body=add_settings)\n",
        "\n",
        "# Define the new settings you want to apply\n",
        "add_settings = {\n",
        "  \"index\": {\n",
        "    \"analysis\": {\n",
        "      \"analyzer\": {\n",
        "        \"ja_kuromoji_index_analyzer\": {\n",
        "          \"filter\": [\n",
        "            \"kuromoji_baseform\",\n",
        "            \"kuromoji_part_of_speech\",\n",
        "            \"cjk_width\",\n",
        "            \"ja_stop\",\n",
        "            \"kuromoji_stemmer\",\n",
        "            \"lowercase\"\n",
        "          ],\n",
        "          \"char_filter\": [\n",
        "            \"normalize\"\n",
        "          ],\n",
        "          \"type\": \"custom\",\n",
        "          \"tokenizer\": \"ja_kuromoji_tokenizer\"\n",
        "        },\n",
        "        \"ja_kuromoji_search_analyzer\": {\n",
        "          \"filter\": [\n",
        "            \"kuromoji_baseform\",\n",
        "            \"kuromoji_part_of_speech\",\n",
        "            \"cjk_width\",\n",
        "            \"ja_stop\",\n",
        "            \"kuromoji_stemmer\",\n",
        "            \"lowercase\"\n",
        "          ],\n",
        "          \"char_filter\": [\n",
        "            \"normalize\"\n",
        "          ],\n",
        "          \"type\": \"custom\",\n",
        "          \"tokenizer\": \"ja_kuromoji_tokenizer\"\n",
        "        }\n",
        "      }\n",
        "    }\n",
        "  }\n",
        "}\n",
        "\n",
        "es.indices.put_settings(index=INDEX_NAME, body=add_settings)\n",
        "\n",
        "es.indices.open(index=INDEX_NAME, request_timeout=60)\n"
      ]
    },
    {
      "cell_type": "markdown",
      "metadata": {
        "id": "bA59QNLcQjxf"
      },
      "source": [
        "App Searchが使うアナライザの設定を追加します。"
      ]
    },
    {
      "cell_type": "code",
      "execution_count": 10,
      "metadata": {
        "colab": {
          "base_uri": "https://localhost:8080/"
        },
        "id": "FrQ4IMBWQjxf",
        "outputId": "99aa5965-8c95-40bf-de2e-aed43ad7ac09"
      },
      "outputs": [
        {
          "output_type": "stream",
          "name": "stderr",
          "text": [
            "<ipython-input-10-bfe7f6a83c6e>:145: DeprecationWarning: Passing transport options in the API method is deprecated. Use 'Elasticsearch.options()' instead.\n",
            "  es.indices.open(index=INDEX_NAME, request_timeout=60)\n"
          ]
        },
        {
          "output_type": "execute_result",
          "data": {
            "text/plain": [
              "ObjectApiResponse({'acknowledged': True, 'shards_acknowledged': True})"
            ]
          },
          "metadata": {},
          "execution_count": 10
        }
      ],
      "source": [
        "es.indices.close(index=INDEX_NAME)\n",
        "add_settings = {\n",
        "  \"index\": {\n",
        "    \"analysis\": {\n",
        "        \"filter\": {\n",
        "          \"front_ngram\": {\n",
        "            \"type\": \"edge_ngram\",\n",
        "            \"min_gram\": \"1\",\n",
        "            \"max_gram\": \"12\"\n",
        "          },\n",
        "          \"bigram_joiner\": {\n",
        "            \"max_shingle_size\": \"2\",\n",
        "            \"token_separator\": \"\",\n",
        "            \"output_unigrams\": \"false\",\n",
        "            \"type\": \"shingle\"\n",
        "          },\n",
        "          \"bigram_max_size\": {\n",
        "            \"type\": \"length\",\n",
        "            \"max\": \"16\",\n",
        "            \"min\": \"0\"\n",
        "          },\n",
        "          \"bigram_joiner_unigrams\": {\n",
        "            \"max_shingle_size\": \"2\",\n",
        "            \"token_separator\": \"\",\n",
        "            \"output_unigrams\": \"true\",\n",
        "            \"type\": \"shingle\"\n",
        "          },\n",
        "          \"delimiter\": {\n",
        "            \"split_on_numerics\": \"true\",\n",
        "            \"generate_word_parts\": \"true\",\n",
        "            \"preserve_original\": \"false\",\n",
        "            \"catenate_words\": \"true\",\n",
        "            \"generate_number_parts\": \"true\",\n",
        "            \"catenate_all\": \"true\",\n",
        "            \"split_on_case_change\": \"true\",\n",
        "            \"type\": \"word_delimiter_graph\",\n",
        "            \"catenate_numbers\": \"true\",\n",
        "            \"stem_english_possessive\": \"true\"\n",
        "          },\n",
        "          \"ja-stop-words-filter\": {\n",
        "            \"type\": \"stop\",\n",
        "            \"stopwords\": \"_japanese_\"\n",
        "          },\n",
        "          \"ja-stem-filter\": {\n",
        "            \"type\": \"kuromoji_stemmer\",\n",
        "            \"minimum_length\": 4\n",
        "          }\n",
        "        },\n",
        "        \"analyzer\": {\n",
        "          \"i_prefix\": {\n",
        "            \"filter\": [\n",
        "              \"front_ngram\"\n",
        "            ],\n",
        "            \"tokenizer\": \"kuromoji_tokenizer\"\n",
        "          },\n",
        "          \"iq_text_delimiter\": {\n",
        "            \"filter\": [\n",
        "              \"delimiter\",\n",
        "              \"kuromoji_baseform\",\n",
        "              \"kuromoji_part_of_speech\",\n",
        "              \"cjk_width\",\n",
        "              \"ja_stop\",\n",
        "              \"kuromoji_stemmer\",\n",
        "              \"lowercase\"\n",
        "            ],\n",
        "            \"char_filter\": [\n",
        "              \"normalize\"\n",
        "            ],\n",
        "            \"tokenizer\": \"whitespace\"\n",
        "          },\n",
        "          \"q_prefix\": {\n",
        "            \"filter\": [\n",
        "              \"front_ngram\"\n",
        "            ],\n",
        "            \"tokenizer\": \"kuromoji_tokenizer\"\n",
        "          },\n",
        "          \"iq_text_base\": {\n",
        "            \"filter\": [\n",
        "              \"kuromoji_baseform\",\n",
        "              \"kuromoji_part_of_speech\",\n",
        "              \"cjk_width\",\n",
        "              \"ja_stop\",\n",
        "              \"kuromoji_stemmer\",\n",
        "              \"lowercase\"\n",
        "            ],\n",
        "            \"char_filter\": [\n",
        "              \"normalize\"\n",
        "            ],\n",
        "            \"tokenizer\": \"kuromoji_tokenizer\"\n",
        "          },\n",
        "          \"iq_text_stem\": {\n",
        "            \"filter\": [\n",
        "              \"kuromoji_baseform\",\n",
        "              \"kuromoji_part_of_speech\",\n",
        "              \"cjk_width\",\n",
        "              \"ja_stop\",\n",
        "              \"kuromoji_stemmer\",\n",
        "              \"lowercase\"\n",
        "            ],\n",
        "            \"char_filter\": [\n",
        "              \"normalize\"\n",
        "            ],\n",
        "            \"tokenizer\": \"kuromoji_tokenizer\"\n",
        "          },\n",
        "          \"i_text_bigram\": {\n",
        "            \"filter\": [\n",
        "              \"delimiter\",\n",
        "              \"kuromoji_baseform\",\n",
        "              \"kuromoji_part_of_speech\",\n",
        "              \"cjk_width\",\n",
        "              \"ja_stop\",\n",
        "              \"kuromoji_stemmer\",\n",
        "              \"lowercase\",\n",
        "              \"bigram_joiner\",\n",
        "              \"bigram_max_size\"\n",
        "            ],\n",
        "            \"char_filter\": [\n",
        "              \"normalize\"\n",
        "            ],\n",
        "            \"tokenizer\": \"kuromoji_tokenizer\"\n",
        "          },\n",
        "          \"q_text_bigram\": {\n",
        "            \"filter\": [\n",
        "              \"delimiter\",\n",
        "              \"kuromoji_baseform\",\n",
        "              \"kuromoji_part_of_speech\",\n",
        "              \"cjk_width\",\n",
        "              \"ja_stop\",\n",
        "              \"kuromoji_stemmer\",\n",
        "              \"lowercase\",\n",
        "              \"bigram_joiner_unigrams\",\n",
        "              \"bigram_max_size\"\n",
        "            ],\n",
        "            \"char_filter\": [\n",
        "              \"normalize\"\n",
        "            ],\n",
        "            \"tokenizer\": \"kuromoji_tokenizer\"\n",
        "          }\n",
        "        }\n",
        "      }\n",
        "  }\n",
        "}\n",
        "\n",
        "es.indices.put_settings(index=INDEX_NAME, body=add_settings)\n",
        "es.indices.open(index=INDEX_NAME, request_timeout=60)"
      ]
    },
    {
      "cell_type": "markdown",
      "metadata": {
        "id": "JA7MKb6sQjxf"
      },
      "source": [
        "インデックスのマッピングを定義します。JSONドキュメントと照らし合わせながらフィールドを定義していきます。"
      ]
    },
    {
      "cell_type": "code",
      "execution_count": 11,
      "metadata": {
        "colab": {
          "base_uri": "https://localhost:8080/"
        },
        "id": "faHwBS0oQjxf",
        "outputId": "b8d58f79-5546-4e69-fb46-75fb7088170b"
      },
      "outputs": [
        {
          "output_type": "stream",
          "name": "stderr",
          "text": [
            "<ipython-input-11-2341abc7c3ee>:1: DeprecationWarning: Passing transport options in the API method is deprecated. Use 'Elasticsearch.options()' instead.\n",
            "  es.indices.close(index=INDEX_NAME, request_timeout=60)\n"
          ]
        },
        {
          "output_type": "execute_result",
          "data": {
            "text/plain": [
              "ObjectApiResponse({'acknowledged': True, 'shards_acknowledged': True})"
            ]
          },
          "metadata": {},
          "execution_count": 11
        }
      ],
      "source": [
        "es.indices.close(index=INDEX_NAME, request_timeout=60)\n",
        "\n",
        "add_mapping = {\n",
        "  \"properties\": {\n",
        "    \"title\": {\n",
        "      \"type\": \"text\",\n",
        "      \"search_analyzer\": \"ja_kuromoji_search_analyzer\",\n",
        "      \"analyzer\": \"ja_kuromoji_index_analyzer\"\n",
        "    },\n",
        "    \"body\": {\n",
        "      \"type\": \"text\",\n",
        "      \"search_analyzer\": \"ja_kuromoji_search_analyzer\",\n",
        "      \"analyzer\": \"ja_kuromoji_index_analyzer\"\n",
        "    },\n",
        "    \"seq_num\": {\n",
        "      \"type\": \"long\"\n",
        "    },\n",
        "    \"source\": {\n",
        "      \"type\": \"keyword\"\n",
        "    },\n",
        "    \"tags\": {\n",
        "      \"type\": \"keyword\"\n",
        "    },\n",
        "    \"url\": {\n",
        "      \"type\": \"keyword\"\n",
        "    },\n",
        "    \"id\": {\n",
        "      \"type\": \"keyword\"\n",
        "    },\n",
        "    \"created_at\": {\n",
        "      \"type\": \"date\"\n",
        "    },\n",
        "    \"updated_at\": {\n",
        "      \"type\": \"date\"\n",
        "    },\n",
        "    \"likes_count\": {\n",
        "      \"type\": \"long\"\n",
        "    },\n",
        "    \"reactions_count\": {\n",
        "      \"type\": \"date\"\n",
        "    },\n",
        "    \"stocks_count\": {\n",
        "      \"type\": \"long\"\n",
        "    },\n",
        "    \"page_views_count\": {\n",
        "      \"type\": \"long\"\n",
        "    },\n",
        "    \"comments_count\": {\n",
        "      \"type\": \"long\"\n",
        "    },\n",
        "    \"organization_url_name\": {\n",
        "      \"type\": \"keyword\"\n",
        "    }\n",
        "  }\n",
        "}\n",
        "\n",
        "es.indices.put_mapping(index=INDEX_NAME, body=add_mapping)\n",
        "\n",
        "es.indices.open(index=INDEX_NAME)"
      ]
    },
    {
      "cell_type": "markdown",
      "source": [
        "App SearchのPrecision Tuningを使うためのサブフィールドprefix, delimiter, joined, stemの4つをテキスト検索させたいフィールド（titleとbody)に対して追加します。詳しくは以下のドキュメントにあります。\n",
        "\n",
        "https://www.elastic.co/guide/en/app-search/current/elasticsearch-engines-text-subfields-support-conventions.html\n"
      ],
      "metadata": {
        "id": "cDLrPRfiWISr"
      }
    },
    {
      "cell_type": "code",
      "source": [
        "es.indices.close(index=INDEX_NAME, request_timeout=60)\n",
        "\n",
        "add_mapping = {\n",
        "  \"properties\": {\n",
        "    \"title\": {\n",
        "      \"type\": \"text\",\n",
        "      \"search_analyzer\": \"ja_kuromoji_search_analyzer\",\n",
        "      \"analyzer\": \"ja_kuromoji_index_analyzer\",\n",
        "      #---以降追加部分---\n",
        "      \"fields\": {\n",
        "        \"prefix\": {\n",
        "          \"search_analyzer\": \"ja_kuromoji_search_analyzer\",\n",
        "          \"analyzer\": \"ja_kuromoji_index_analyzer\",\n",
        "          \"type\": \"text\",\n",
        "          \"index_options\": \"docs\"\n",
        "        },\n",
        "        \"delimiter\": {\n",
        "          \"analyzer\": \"iq_text_delimiter\",\n",
        "          \"type\": \"text\",\n",
        "          \"index_options\": \"freqs\"\n",
        "        },\n",
        "        \"joined\": {\n",
        "          \"search_analyzer\": \"q_text_bigram\",\n",
        "          \"analyzer\": \"i_text_bigram\",\n",
        "          \"type\": \"text\",\n",
        "          \"index_options\": \"freqs\"\n",
        "        },\n",
        "        \"stem\": {\n",
        "          \"analyzer\": \"iq_text_stem\",\n",
        "          \"type\": \"text\"\n",
        "        }\n",
        "      }\n",
        "    },\n",
        "    \"body\": {\n",
        "      \"type\": \"text\",\n",
        "      \"search_analyzer\": \"ja_kuromoji_search_analyzer\",\n",
        "      \"analyzer\": \"ja_kuromoji_index_analyzer\",\n",
        "      #---以降追加部分---\n",
        "      \"fields\": {\n",
        "        \"prefix\": {\n",
        "          \"search_analyzer\": \"ja_kuromoji_search_analyzer\",\n",
        "          \"analyzer\": \"ja_kuromoji_index_analyzer\",\n",
        "          \"type\": \"text\",\n",
        "          \"index_options\": \"docs\"\n",
        "        },\n",
        "        \"delimiter\": {\n",
        "          \"analyzer\": \"iq_text_delimiter\",\n",
        "          \"type\": \"text\",\n",
        "          \"index_options\": \"freqs\"\n",
        "        },\n",
        "        \"joined\": {\n",
        "          \"search_analyzer\": \"q_text_bigram\",\n",
        "          \"analyzer\": \"i_text_bigram\",\n",
        "          \"type\": \"text\",\n",
        "          \"index_options\": \"freqs\"\n",
        "        },\n",
        "        \"stem\": {\n",
        "          \"analyzer\": \"iq_text_stem\",\n",
        "          \"type\": \"text\"\n",
        "        }\n",
        "      }\n",
        "    }\n",
        "  }\n",
        "}\n",
        "\n",
        "es.indices.put_mapping(index=INDEX_NAME, body=add_mapping)\n",
        "\n",
        "es.indices.open(index=INDEX_NAME)"
      ],
      "metadata": {
        "colab": {
          "base_uri": "https://localhost:8080/"
        },
        "id": "ZrySmQ8iTJFr",
        "outputId": "1ca1f8eb-9559-4e7f-aec7-f2b0f8864dc1"
      },
      "execution_count": 13,
      "outputs": [
        {
          "output_type": "stream",
          "name": "stderr",
          "text": [
            "<ipython-input-13-0295fcb509ac>:1: DeprecationWarning: Passing transport options in the API method is deprecated. Use 'Elasticsearch.options()' instead.\n",
            "  es.indices.close(index=INDEX_NAME, request_timeout=60)\n"
          ]
        },
        {
          "output_type": "execute_result",
          "data": {
            "text/plain": [
              "ObjectApiResponse({'acknowledged': True, 'shards_acknowledged': True})"
            ]
          },
          "metadata": {},
          "execution_count": 13
        }
      ]
    },
    {
      "cell_type": "markdown",
      "metadata": {
        "id": "G2RlWudWQjxf"
      },
      "source": [
        "# 4. ドキュメントのインジェスト\n",
        "前のステップでダウンロードしたQiita記事をElasticsearchのインデックスにアップします。"
      ]
    },
    {
      "cell_type": "code",
      "execution_count": 16,
      "metadata": {
        "colab": {
          "base_uri": "https://localhost:8080/"
        },
        "id": "_lf0mN9FQjxf",
        "outputId": "ff9d45b6-345c-4511-9dd9-0b72e14d7f9a"
      },
      "outputs": [
        {
          "output_type": "stream",
          "name": "stdout",
          "text": [
            "{'title': 'Elasticsearchのマシン・ラーニング異常検知の動きを理解する(3) [変更設定編]'}\n",
            "{'title': 'ElasticsearchでRAG (Retrieval Augmented Generation) を試す'}\n",
            "{'title': 'Elasticsearchに日本語のNLPモデルをアップロードする'}\n",
            "{'title': 'OpenLDAPのログをElastic AgentのCustom Logsで取り込む'}\n",
            "{'title': 'ElasticsearchのFrozenデータティアにデータが入るのをテストしてみた (1)'}\n",
            "{'title': 'Elastic CloudでHotに溜まっているデータを別のティアに移動するやり方'}\n",
            "{'title': 'Elasticsearchにカスタム時系列データを取り込む (Elastic Agent編)'}\n",
            "{'title': 'Elastic CloudとLangChainでQiitaの記事をベクトル/セマンティック検索する方法の紹介'}\n",
            "{'title': 'Elastic Stack一式をelastic-packageコマンドを使ってローカルに一発で立ち上げる'}\n",
            "{'title': 'Upgrade Assistantを使ってElastic Stackをバージョンアップ'}\n"
          ]
        }
      ],
      "source": [
        "from elasticsearch import Elasticsearch, helpers\n",
        "\n",
        "# 前の実行で残っているDocumentはクリアしてからインジェストします\n",
        "if es.indices.exists(index=INDEX_NAME):\n",
        "    es.delete_by_query(index=INDEX_NAME, body={\"query\": {\"match_all\": {}}})\n",
        "\n",
        "index_docs = []\n",
        "for doc in json_docs:\n",
        "    # doc_json['_run_ml_inference'] = True\n",
        "    index_docs.append({\n",
        "        \"_index\": INDEX_NAME,\n",
        "        \"_source\": doc,\n",
        "    })\n",
        "\n",
        "try:\n",
        "    r = helpers.bulk(es, index_docs)\n",
        "except Exception as e:\n",
        "    print(e)\n",
        "    raise e\n",
        "\n",
        "response = es.search(index=INDEX_NAME, query={\"match_all\": {}}, source=[\"title\"])\n",
        "for hit in response['hits']['hits']:\n",
        "    print(hit['_source'])"
      ]
    },
    {
      "cell_type": "markdown",
      "metadata": {
        "id": "E0wFTImbQjxg"
      },
      "source": [
        "# 5. App Seachエンジン用のALIASの設定\n",
        "App Searchからはエイリアス経由でインデックスを使うため、エイリアス名を指定します。ここでは、元のインデックス名に対してプレフィックス\"search-\"を追加したものをエイリアス名としています。"
      ]
    },
    {
      "cell_type": "code",
      "execution_count": 18,
      "metadata": {
        "colab": {
          "base_uri": "https://localhost:8080/",
          "height": 35
        },
        "id": "m7Gpc-4gQjxg",
        "outputId": "09baddcd-ba10-4fe0-a1db-95e59e2762e1"
      },
      "outputs": [
        {
          "output_type": "execute_result",
          "data": {
            "text/plain": [
              "'search-test-appsearch-01'"
            ],
            "application/vnd.google.colaboratory.intrinsic+json": {
              "type": "string"
            }
          },
          "metadata": {},
          "execution_count": 18
        }
      ],
      "source": [
        "ALIAS=f\"search-{INDEX_NAME}\"\n",
        "es.indices.put_alias(index=INDEX_NAME, name=ALIAS)\n",
        "ALIAS"
      ]
    }
  ],
  "metadata": {
    "kernelspec": {
      "display_name": "Python 3",
      "language": "python",
      "name": "python3"
    },
    "language_info": {
      "codemirror_mode": {
        "name": "ipython",
        "version": 3
      },
      "file_extension": ".py",
      "mimetype": "text/x-python",
      "name": "python",
      "nbconvert_exporter": "python",
      "pygments_lexer": "ipython3",
      "version": "3.10.12"
    },
    "orig_nbformat": 4,
    "colab": {
      "provenance": [],
      "include_colab_link": true
    }
  },
  "nbformat": 4,
  "nbformat_minor": 0
}